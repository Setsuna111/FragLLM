{
 "cells": [
  {
   "cell_type": "markdown",
   "id": "47603a3d",
   "metadata": {},
   "source": [
    "### test"
   ]
  },
  {
   "cell_type": "code",
   "execution_count": null,
   "id": "bf825cea",
   "metadata": {},
   "outputs": [
    {
     "name": "stderr",
     "output_type": "stream",
     "text": [
      "/home/lfj/anaconda3/envs/pika/lib/python3.10/site-packages/tqdm/auto.py:21: TqdmWarning: IProgress not found. Please update jupyter and ipywidgets. See https://ipywidgets.readthedocs.io/en/stable/user_install.html\n",
      "  from .autonotebook import tqdm as notebook_tqdm\n"
     ]
    }
   ],
   "source": [
    "import os\n",
    "os.environ['CUDA_VISIBLE_DEVICES'] = '7'  # restrict GPU visibility\n",
    "import torch\n",
    "import transformers\n",
    "from sentence_transformers import SentenceTransformer\n",
    "\n",
    "model = SentenceTransformer(\"/home/lfj/projects_dir/pretrained_model/Qwen3-Embedding-0.6B\")\n",
    "# model = SentenceTransformer(\"/home/lfj/projects_dir/pretrained_model/jina-embeddings-v4\")\n",
    "model = model.cuda()\n",
    "\n",
    "target_texts=[\"binding protein\", \"catalytic enzyme\", \"transporter\"]\n",
    "embeddings = model.encode(target_texts)\n",
    "similarity = model.similarity(embeddings, embeddings)\n",
    "\n",
    "print(embeddings, similarity)"
   ]
  },
  {
   "cell_type": "markdown",
   "id": "fccee96a",
   "metadata": {},
   "source": [
    "### formal run for all compared methods"
   ]
  }
 ],
 "metadata": {
  "kernelspec": {
   "display_name": "pika",
   "language": "python",
   "name": "python3"
  },
  "language_info": {
   "codemirror_mode": {
    "name": "ipython",
    "version": 3
   },
   "file_extension": ".py",
   "mimetype": "text/x-python",
   "name": "python",
   "nbconvert_exporter": "python",
   "pygments_lexer": "ipython3",
   "version": "3.10.18"
  }
 },
 "nbformat": 4,
 "nbformat_minor": 5
}
